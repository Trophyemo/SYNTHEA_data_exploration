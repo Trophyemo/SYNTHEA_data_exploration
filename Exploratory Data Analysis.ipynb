{
 "cells": [
  {
   "cell_type": "markdown",
   "id": "a8401622",
   "metadata": {},
   "source": [
    "# Import packages I need and data"
   ]
  },
  {
   "cell_type": "code",
   "execution_count": 1,
   "id": "37eea251",
   "metadata": {},
   "outputs": [],
   "source": [
    "## import all the packages you need \n",
    "import psycopg2\n",
    "import pandas as pd\n",
    "from getpass import getpass\n",
    "from sqlalchemy import create_engine\n",
    "import seaborn as sns\n",
    "from datetime import date, datetime\n",
    "from dateutil.relativedelta import relativedelta\n",
    "import warnings\n",
    "from matplotlib import pyplot as plt\n",
    "warnings.filterwarnings('ignore')"
   ]
  },
  {
   "cell_type": "code",
   "execution_count": 2,
   "id": "27919682",
   "metadata": {},
   "outputs": [],
   "source": [
    "# Enter database connection parameters\n",
    "# Could also store and read these as environment variables,\n",
    "# but best practice is to never include credentials directly\n",
    "# in version control\n",
    "hostname = \"spinup-db001ec7.cluster-c9ukc6s0rmbg.us-east-1.rds.amazonaws.com\"\n",
    "username = \"introml568\"\n",
    "password = \"m7bxMRtyMqPbcxyRRGML8\"\n",
    "database_name = \"synthea-omop\""
   ]
  },
  {
   "cell_type": "code",
   "execution_count": 3,
   "id": "89573815",
   "metadata": {},
   "outputs": [],
   "source": [
    "# Connect using SQL Alchemy to support pandas mapping\n",
    "alchemy_engine = create_engine(f\"postgresql+psycopg2://{username}:{password}@{hostname}/{database_name}\",  pool_recycle=3600)\n",
    "db_connection = alchemy_engine.connect();"
   ]
  },
  {
   "cell_type": "code",
   "execution_count": 4,
   "id": "1e548737",
   "metadata": {},
   "outputs": [],
   "source": [
    "# Read in SQL tables through Pandas: Person and Visit \n",
    "omop_person = pd.read_sql(\"select * from omop.person\", db_connection);\n",
    "omop_visit = pd.read_sql(\"select * from omop.visit_occurrence\", db_connection);"
   ]
  },
  {
   "cell_type": "markdown",
   "id": "08c6fdcd",
   "metadata": {},
   "source": [
    "# Inclusion Cirteria"
   ]
  },
  {
   "cell_type": "markdown",
   "id": "cff5796f",
   "metadata": {},
   "source": [
    "living patients"
   ]
  },
  {
   "cell_type": "code",
   "execution_count": 5,
   "id": "89058d05",
   "metadata": {},
   "outputs": [],
   "source": [
    "# p.DataFrame.merge objects with a database-style join\n",
    "df = pd.merge(omop_person, omop_visit, on='person_id', how=\"inner\")"
   ]
  },
  {
   "cell_type": "code",
   "execution_count": 6,
   "id": "745fc627",
   "metadata": {},
   "outputs": [],
   "source": [
    "omop_death = pd.read_sql(\"select * from omop.death\", db_connection);\n",
    "# merge two tables by person_id\n",
    "df_inc = pd.merge(df, omop_death[['person_id', 'death_date']], on='person_id', how='left')"
   ]
  },
  {
   "cell_type": "code",
   "execution_count": 7,
   "id": "1455364c",
   "metadata": {},
   "outputs": [
    {
     "data": {
      "text/html": [
       "<div>\n",
       "<style scoped>\n",
       "    .dataframe tbody tr th:only-of-type {\n",
       "        vertical-align: middle;\n",
       "    }\n",
       "\n",
       "    .dataframe tbody tr th {\n",
       "        vertical-align: top;\n",
       "    }\n",
       "\n",
       "    .dataframe thead th {\n",
       "        text-align: right;\n",
       "    }\n",
       "</style>\n",
       "<table border=\"1\" class=\"dataframe\">\n",
       "  <thead>\n",
       "    <tr style=\"text-align: right;\">\n",
       "      <th></th>\n",
       "      <th>person_id</th>\n",
       "      <th>gender_concept_id</th>\n",
       "      <th>year_of_birth</th>\n",
       "      <th>month_of_birth</th>\n",
       "      <th>day_of_birth</th>\n",
       "      <th>birth_datetime</th>\n",
       "      <th>race_concept_id</th>\n",
       "      <th>ethnicity_concept_id</th>\n",
       "      <th>location_id</th>\n",
       "      <th>provider_id_x</th>\n",
       "      <th>...</th>\n",
       "      <th>provider_id_y</th>\n",
       "      <th>care_site_id_y</th>\n",
       "      <th>visit_source_value</th>\n",
       "      <th>visit_source_concept_id</th>\n",
       "      <th>admitted_from_concept_id</th>\n",
       "      <th>admitted_from_source_value</th>\n",
       "      <th>discharged_to_concept_id</th>\n",
       "      <th>discharged_to_source_value</th>\n",
       "      <th>preceding_visit_occurrence_id</th>\n",
       "      <th>death_date</th>\n",
       "    </tr>\n",
       "  </thead>\n",
       "  <tbody>\n",
       "    <tr>\n",
       "      <th>49</th>\n",
       "      <td>2</td>\n",
       "      <td>8507</td>\n",
       "      <td>1979</td>\n",
       "      <td>6</td>\n",
       "      <td>30</td>\n",
       "      <td>1979-06-30</td>\n",
       "      <td>8527</td>\n",
       "      <td>38003564</td>\n",
       "      <td>None</td>\n",
       "      <td>None</td>\n",
       "      <td>...</td>\n",
       "      <td>5578</td>\n",
       "      <td>None</td>\n",
       "      <td>18ad60db-42be-f734-ab06-03a0cff48ad4</td>\n",
       "      <td>0</td>\n",
       "      <td>0</td>\n",
       "      <td>None</td>\n",
       "      <td>0</td>\n",
       "      <td>None</td>\n",
       "      <td>NaN</td>\n",
       "      <td>NaN</td>\n",
       "    </tr>\n",
       "    <tr>\n",
       "      <th>50</th>\n",
       "      <td>2</td>\n",
       "      <td>8507</td>\n",
       "      <td>1979</td>\n",
       "      <td>6</td>\n",
       "      <td>30</td>\n",
       "      <td>1979-06-30</td>\n",
       "      <td>8527</td>\n",
       "      <td>38003564</td>\n",
       "      <td>None</td>\n",
       "      <td>None</td>\n",
       "      <td>...</td>\n",
       "      <td>25</td>\n",
       "      <td>None</td>\n",
       "      <td>5c9f7838-c76c-747b-8a17-6af4c43b837a</td>\n",
       "      <td>0</td>\n",
       "      <td>0</td>\n",
       "      <td>None</td>\n",
       "      <td>0</td>\n",
       "      <td>None</td>\n",
       "      <td>82.0</td>\n",
       "      <td>NaN</td>\n",
       "    </tr>\n",
       "    <tr>\n",
       "      <th>51</th>\n",
       "      <td>2</td>\n",
       "      <td>8507</td>\n",
       "      <td>1979</td>\n",
       "      <td>6</td>\n",
       "      <td>30</td>\n",
       "      <td>1979-06-30</td>\n",
       "      <td>8527</td>\n",
       "      <td>38003564</td>\n",
       "      <td>None</td>\n",
       "      <td>None</td>\n",
       "      <td>...</td>\n",
       "      <td>5578</td>\n",
       "      <td>None</td>\n",
       "      <td>cc326e4a-4fcb-07cc-4aab-b454fb6f07a8</td>\n",
       "      <td>0</td>\n",
       "      <td>0</td>\n",
       "      <td>None</td>\n",
       "      <td>0</td>\n",
       "      <td>None</td>\n",
       "      <td>79.0</td>\n",
       "      <td>NaN</td>\n",
       "    </tr>\n",
       "    <tr>\n",
       "      <th>52</th>\n",
       "      <td>2</td>\n",
       "      <td>8507</td>\n",
       "      <td>1979</td>\n",
       "      <td>6</td>\n",
       "      <td>30</td>\n",
       "      <td>1979-06-30</td>\n",
       "      <td>8527</td>\n",
       "      <td>38003564</td>\n",
       "      <td>None</td>\n",
       "      <td>None</td>\n",
       "      <td>...</td>\n",
       "      <td>5578</td>\n",
       "      <td>None</td>\n",
       "      <td>bdf43d28-5b7d-3fc2-4e79-ca3db900ad82</td>\n",
       "      <td>0</td>\n",
       "      <td>0</td>\n",
       "      <td>None</td>\n",
       "      <td>0</td>\n",
       "      <td>None</td>\n",
       "      <td>76.0</td>\n",
       "      <td>NaN</td>\n",
       "    </tr>\n",
       "    <tr>\n",
       "      <th>53</th>\n",
       "      <td>2</td>\n",
       "      <td>8507</td>\n",
       "      <td>1979</td>\n",
       "      <td>6</td>\n",
       "      <td>30</td>\n",
       "      <td>1979-06-30</td>\n",
       "      <td>8527</td>\n",
       "      <td>38003564</td>\n",
       "      <td>None</td>\n",
       "      <td>None</td>\n",
       "      <td>...</td>\n",
       "      <td>25</td>\n",
       "      <td>None</td>\n",
       "      <td>b144cd30-30dd-2934-0da8-32fda989d657</td>\n",
       "      <td>0</td>\n",
       "      <td>0</td>\n",
       "      <td>None</td>\n",
       "      <td>0</td>\n",
       "      <td>None</td>\n",
       "      <td>80.0</td>\n",
       "      <td>NaN</td>\n",
       "    </tr>\n",
       "    <tr>\n",
       "      <th>...</th>\n",
       "      <td>...</td>\n",
       "      <td>...</td>\n",
       "      <td>...</td>\n",
       "      <td>...</td>\n",
       "      <td>...</td>\n",
       "      <td>...</td>\n",
       "      <td>...</td>\n",
       "      <td>...</td>\n",
       "      <td>...</td>\n",
       "      <td>...</td>\n",
       "      <td>...</td>\n",
       "      <td>...</td>\n",
       "      <td>...</td>\n",
       "      <td>...</td>\n",
       "      <td>...</td>\n",
       "      <td>...</td>\n",
       "      <td>...</td>\n",
       "      <td>...</td>\n",
       "      <td>...</td>\n",
       "      <td>...</td>\n",
       "      <td>...</td>\n",
       "    </tr>\n",
       "    <tr>\n",
       "      <th>547139</th>\n",
       "      <td>11963</td>\n",
       "      <td>8532</td>\n",
       "      <td>1958</td>\n",
       "      <td>7</td>\n",
       "      <td>25</td>\n",
       "      <td>1958-07-25</td>\n",
       "      <td>8516</td>\n",
       "      <td>38003563</td>\n",
       "      <td>None</td>\n",
       "      <td>None</td>\n",
       "      <td>...</td>\n",
       "      <td>2</td>\n",
       "      <td>None</td>\n",
       "      <td>a40706bb-a818-3036-b7ac-6b191f8277ba</td>\n",
       "      <td>0</td>\n",
       "      <td>0</td>\n",
       "      <td>None</td>\n",
       "      <td>0</td>\n",
       "      <td>None</td>\n",
       "      <td>557249.0</td>\n",
       "      <td>NaN</td>\n",
       "    </tr>\n",
       "    <tr>\n",
       "      <th>547140</th>\n",
       "      <td>11963</td>\n",
       "      <td>8532</td>\n",
       "      <td>1958</td>\n",
       "      <td>7</td>\n",
       "      <td>25</td>\n",
       "      <td>1958-07-25</td>\n",
       "      <td>8516</td>\n",
       "      <td>38003563</td>\n",
       "      <td>None</td>\n",
       "      <td>None</td>\n",
       "      <td>...</td>\n",
       "      <td>2</td>\n",
       "      <td>None</td>\n",
       "      <td>50e33f96-c0af-c163-2afa-fd6dbf5111e9</td>\n",
       "      <td>0</td>\n",
       "      <td>0</td>\n",
       "      <td>None</td>\n",
       "      <td>0</td>\n",
       "      <td>None</td>\n",
       "      <td>557250.0</td>\n",
       "      <td>NaN</td>\n",
       "    </tr>\n",
       "    <tr>\n",
       "      <th>547141</th>\n",
       "      <td>11963</td>\n",
       "      <td>8532</td>\n",
       "      <td>1958</td>\n",
       "      <td>7</td>\n",
       "      <td>25</td>\n",
       "      <td>1958-07-25</td>\n",
       "      <td>8516</td>\n",
       "      <td>38003563</td>\n",
       "      <td>None</td>\n",
       "      <td>None</td>\n",
       "      <td>...</td>\n",
       "      <td>4872</td>\n",
       "      <td>None</td>\n",
       "      <td>eac804fb-ac13-2d90-4bce-75a897576c40</td>\n",
       "      <td>0</td>\n",
       "      <td>0</td>\n",
       "      <td>None</td>\n",
       "      <td>0</td>\n",
       "      <td>None</td>\n",
       "      <td>557251.0</td>\n",
       "      <td>NaN</td>\n",
       "    </tr>\n",
       "    <tr>\n",
       "      <th>547142</th>\n",
       "      <td>11963</td>\n",
       "      <td>8532</td>\n",
       "      <td>1958</td>\n",
       "      <td>7</td>\n",
       "      <td>25</td>\n",
       "      <td>1958-07-25</td>\n",
       "      <td>8516</td>\n",
       "      <td>38003563</td>\n",
       "      <td>None</td>\n",
       "      <td>None</td>\n",
       "      <td>...</td>\n",
       "      <td>2</td>\n",
       "      <td>None</td>\n",
       "      <td>097fa8ea-06d7-a8ad-06db-dfd3e5a6c9d0</td>\n",
       "      <td>0</td>\n",
       "      <td>0</td>\n",
       "      <td>None</td>\n",
       "      <td>0</td>\n",
       "      <td>None</td>\n",
       "      <td>557263.0</td>\n",
       "      <td>NaN</td>\n",
       "    </tr>\n",
       "    <tr>\n",
       "      <th>547143</th>\n",
       "      <td>11963</td>\n",
       "      <td>8532</td>\n",
       "      <td>1958</td>\n",
       "      <td>7</td>\n",
       "      <td>25</td>\n",
       "      <td>1958-07-25</td>\n",
       "      <td>8516</td>\n",
       "      <td>38003563</td>\n",
       "      <td>None</td>\n",
       "      <td>None</td>\n",
       "      <td>...</td>\n",
       "      <td>2</td>\n",
       "      <td>None</td>\n",
       "      <td>3e8604d8-6613-eb3b-64cb-9f9dea95501a</td>\n",
       "      <td>0</td>\n",
       "      <td>0</td>\n",
       "      <td>None</td>\n",
       "      <td>0</td>\n",
       "      <td>None</td>\n",
       "      <td>557252.0</td>\n",
       "      <td>NaN</td>\n",
       "    </tr>\n",
       "  </tbody>\n",
       "</table>\n",
       "<p>403619 rows × 35 columns</p>\n",
       "</div>"
      ],
      "text/plain": [
       "        person_id  gender_concept_id  year_of_birth  month_of_birth  \\\n",
       "49              2               8507           1979               6   \n",
       "50              2               8507           1979               6   \n",
       "51              2               8507           1979               6   \n",
       "52              2               8507           1979               6   \n",
       "53              2               8507           1979               6   \n",
       "...           ...                ...            ...             ...   \n",
       "547139      11963               8532           1958               7   \n",
       "547140      11963               8532           1958               7   \n",
       "547141      11963               8532           1958               7   \n",
       "547142      11963               8532           1958               7   \n",
       "547143      11963               8532           1958               7   \n",
       "\n",
       "        day_of_birth birth_datetime  race_concept_id  ethnicity_concept_id  \\\n",
       "49                30     1979-06-30             8527              38003564   \n",
       "50                30     1979-06-30             8527              38003564   \n",
       "51                30     1979-06-30             8527              38003564   \n",
       "52                30     1979-06-30             8527              38003564   \n",
       "53                30     1979-06-30             8527              38003564   \n",
       "...              ...            ...              ...                   ...   \n",
       "547139            25     1958-07-25             8516              38003563   \n",
       "547140            25     1958-07-25             8516              38003563   \n",
       "547141            25     1958-07-25             8516              38003563   \n",
       "547142            25     1958-07-25             8516              38003563   \n",
       "547143            25     1958-07-25             8516              38003563   \n",
       "\n",
       "       location_id provider_id_x  ... provider_id_y care_site_id_y  \\\n",
       "49            None          None  ...          5578           None   \n",
       "50            None          None  ...            25           None   \n",
       "51            None          None  ...          5578           None   \n",
       "52            None          None  ...          5578           None   \n",
       "53            None          None  ...            25           None   \n",
       "...            ...           ...  ...           ...            ...   \n",
       "547139        None          None  ...             2           None   \n",
       "547140        None          None  ...             2           None   \n",
       "547141        None          None  ...          4872           None   \n",
       "547142        None          None  ...             2           None   \n",
       "547143        None          None  ...             2           None   \n",
       "\n",
       "                          visit_source_value  visit_source_concept_id  \\\n",
       "49      18ad60db-42be-f734-ab06-03a0cff48ad4                        0   \n",
       "50      5c9f7838-c76c-747b-8a17-6af4c43b837a                        0   \n",
       "51      cc326e4a-4fcb-07cc-4aab-b454fb6f07a8                        0   \n",
       "52      bdf43d28-5b7d-3fc2-4e79-ca3db900ad82                        0   \n",
       "53      b144cd30-30dd-2934-0da8-32fda989d657                        0   \n",
       "...                                      ...                      ...   \n",
       "547139  a40706bb-a818-3036-b7ac-6b191f8277ba                        0   \n",
       "547140  50e33f96-c0af-c163-2afa-fd6dbf5111e9                        0   \n",
       "547141  eac804fb-ac13-2d90-4bce-75a897576c40                        0   \n",
       "547142  097fa8ea-06d7-a8ad-06db-dfd3e5a6c9d0                        0   \n",
       "547143  3e8604d8-6613-eb3b-64cb-9f9dea95501a                        0   \n",
       "\n",
       "       admitted_from_concept_id  admitted_from_source_value  \\\n",
       "49                            0                        None   \n",
       "50                            0                        None   \n",
       "51                            0                        None   \n",
       "52                            0                        None   \n",
       "53                            0                        None   \n",
       "...                         ...                         ...   \n",
       "547139                        0                        None   \n",
       "547140                        0                        None   \n",
       "547141                        0                        None   \n",
       "547142                        0                        None   \n",
       "547143                        0                        None   \n",
       "\n",
       "       discharged_to_concept_id  discharged_to_source_value  \\\n",
       "49                            0                        None   \n",
       "50                            0                        None   \n",
       "51                            0                        None   \n",
       "52                            0                        None   \n",
       "53                            0                        None   \n",
       "...                         ...                         ...   \n",
       "547139                        0                        None   \n",
       "547140                        0                        None   \n",
       "547141                        0                        None   \n",
       "547142                        0                        None   \n",
       "547143                        0                        None   \n",
       "\n",
       "        preceding_visit_occurrence_id  death_date  \n",
       "49                                NaN         NaN  \n",
       "50                               82.0         NaN  \n",
       "51                               79.0         NaN  \n",
       "52                               76.0         NaN  \n",
       "53                               80.0         NaN  \n",
       "...                               ...         ...  \n",
       "547139                       557249.0         NaN  \n",
       "547140                       557250.0         NaN  \n",
       "547141                       557251.0         NaN  \n",
       "547142                       557263.0         NaN  \n",
       "547143                       557252.0         NaN  \n",
       "\n",
       "[403619 rows x 35 columns]"
      ]
     },
     "execution_count": 7,
     "metadata": {},
     "output_type": "execute_result"
    }
   ],
   "source": [
    "# living patients\n",
    "df_inc = df_inc[df_inc.death_date.isnull()]\n",
    "df_inc"
   ]
  },
  {
   "cell_type": "markdown",
   "id": "5de5f09d",
   "metadata": {},
   "source": [
    "age 52-56"
   ]
  },
  {
   "cell_type": "code",
   "execution_count": 8,
   "id": "e0fa7033",
   "metadata": {},
   "outputs": [],
   "source": [
    "# define a function to find a person's visit age\n",
    "def visit_age(x, y):\n",
    "    difference_in_years = relativedelta(x, y).years\n",
    "    return difference_in_years\n",
    "\n",
    "# create a new variable named age at visit\n",
    "df_inc['visit_age'] = df_inc.apply(lambda x: visit_age(x['visit_start_datetime'], x['birth_datetime']), axis=1)"
   ]
  },
  {
   "cell_type": "code",
   "execution_count": 9,
   "id": "07569f34",
   "metadata": {},
   "outputs": [],
   "source": [
    "df_inc = df_inc.loc[(df_inc.visit_age >= 52) & (df_inc.visit_age <= 56)]"
   ]
  },
  {
   "cell_type": "markdown",
   "id": "ac59ab6a",
   "metadata": {},
   "source": [
    "visits 1-37"
   ]
  },
  {
   "cell_type": "code",
   "execution_count": 10,
   "id": "36ec806b",
   "metadata": {},
   "outputs": [
    {
     "data": {
      "text/html": [
       "<div>\n",
       "<style scoped>\n",
       "    .dataframe tbody tr th:only-of-type {\n",
       "        vertical-align: middle;\n",
       "    }\n",
       "\n",
       "    .dataframe tbody tr th {\n",
       "        vertical-align: top;\n",
       "    }\n",
       "\n",
       "    .dataframe thead th {\n",
       "        text-align: right;\n",
       "    }\n",
       "</style>\n",
       "<table border=\"1\" class=\"dataframe\">\n",
       "  <thead>\n",
       "    <tr style=\"text-align: right;\">\n",
       "      <th></th>\n",
       "      <th>visit_occurrence_id</th>\n",
       "    </tr>\n",
       "    <tr>\n",
       "      <th>person_id</th>\n",
       "      <th></th>\n",
       "    </tr>\n",
       "  </thead>\n",
       "  <tbody>\n",
       "    <tr>\n",
       "      <th>3</th>\n",
       "      <td>1</td>\n",
       "    </tr>\n",
       "    <tr>\n",
       "      <th>5</th>\n",
       "      <td>8</td>\n",
       "    </tr>\n",
       "    <tr>\n",
       "      <th>7</th>\n",
       "      <td>14</td>\n",
       "    </tr>\n",
       "    <tr>\n",
       "      <th>9</th>\n",
       "      <td>5</td>\n",
       "    </tr>\n",
       "    <tr>\n",
       "      <th>11</th>\n",
       "      <td>2</td>\n",
       "    </tr>\n",
       "    <tr>\n",
       "      <th>...</th>\n",
       "      <td>...</td>\n",
       "    </tr>\n",
       "    <tr>\n",
       "      <th>11941</th>\n",
       "      <td>11</td>\n",
       "    </tr>\n",
       "    <tr>\n",
       "      <th>11943</th>\n",
       "      <td>12</td>\n",
       "    </tr>\n",
       "    <tr>\n",
       "      <th>11947</th>\n",
       "      <td>9</td>\n",
       "    </tr>\n",
       "    <tr>\n",
       "      <th>11960</th>\n",
       "      <td>8</td>\n",
       "    </tr>\n",
       "    <tr>\n",
       "      <th>11963</th>\n",
       "      <td>5</td>\n",
       "    </tr>\n",
       "  </tbody>\n",
       "</table>\n",
       "<p>2806 rows × 1 columns</p>\n",
       "</div>"
      ],
      "text/plain": [
       "           visit_occurrence_id\n",
       "person_id                     \n",
       "3                            1\n",
       "5                            8\n",
       "7                           14\n",
       "9                            5\n",
       "11                           2\n",
       "...                        ...\n",
       "11941                       11\n",
       "11943                       12\n",
       "11947                        9\n",
       "11960                        8\n",
       "11963                        5\n",
       "\n",
       "[2806 rows x 1 columns]"
      ]
     },
     "execution_count": 10,
     "metadata": {},
     "output_type": "execute_result"
    }
   ],
   "source": [
    "# do groupby clause to find the count of each person_id\n",
    "visit_count = df_inc.groupby('person_id').agg({'visit_occurrence_id':'count'})\n",
    "visit_count"
   ]
  },
  {
   "cell_type": "code",
   "execution_count": 11,
   "id": "90a2a995",
   "metadata": {},
   "outputs": [],
   "source": [
    "# find valid_id\n",
    "valid_id = visit_count[(visit_count.visit_occurrence_id >= 1)&(visit_count.visit_occurrence_id <= 37)].index"
   ]
  },
  {
   "cell_type": "code",
   "execution_count": 12,
   "id": "cd634201",
   "metadata": {},
   "outputs": [],
   "source": [
    "# filter the person_id which visits 1-37 times\n",
    "df_inc = df_inc.loc[df_inc.person_id.isin(list(valid_id))]"
   ]
  },
  {
   "cell_type": "markdown",
   "id": "6b73d76c",
   "metadata": {},
   "source": [
    "# Exclusion Criteria"
   ]
  },
  {
   "cell_type": "markdown",
   "id": "0f3f3083",
   "metadata": {},
   "source": [
    "The first criteria: Those seen with a sum of 3-17 visits with high systolic blood pressure(the cutoff \n",
    "point for high systolic bp is any value > 140) for any visit "
   ]
  },
  {
   "cell_type": "code",
   "execution_count": 13,
   "id": "421acf66",
   "metadata": {},
   "outputs": [],
   "source": [
    "# read in a new table for concept\n",
    "omop_concept = pd.read_sql(\"select * from omop.concept\", db_connection);\n",
    "# read in a new table for measurement\n",
    "omop_meas = pd.read_sql(\"select * from omop.measurement\", db_connection);"
   ]
  },
  {
   "cell_type": "code",
   "execution_count": 14,
   "id": "760def14",
   "metadata": {},
   "outputs": [],
   "source": [
    "# merge two tables by measurement_concept_id\n",
    "df_meas = pd.merge(omop_meas, omop_concept[['concept_id', 'concept_name']], left_on='measurement_concept_id', right_on='concept_id')"
   ]
  },
  {
   "cell_type": "code",
   "execution_count": 15,
   "id": "1b217230",
   "metadata": {},
   "outputs": [],
   "source": [
    "# find valid_id\n",
    "valid_id_exc_1 = visit_count[(visit_count.visit_occurrence_id >= 3)&(visit_count.visit_occurrence_id <= 17)].index\n",
    "# first filter\n",
    "df_exc = df_inc[df_inc.person_id.isin(list(valid_id_exc_1))]"
   ]
  },
  {
   "cell_type": "code",
   "execution_count": 16,
   "id": "5122855e",
   "metadata": {},
   "outputs": [],
   "source": [
    "# second filter\n",
    "valid_id_exc_2 = df_meas[df_meas.concept_name=='Systolic blood pressure'].person_id\n",
    "df_exc = df_exc[df_exc.person_id.isin(list(valid_id_exc_2))]"
   ]
  },
  {
   "cell_type": "code",
   "execution_count": 17,
   "id": "57b5407e",
   "metadata": {},
   "outputs": [],
   "source": [
    "# exclude the cooresponding person_id based on two filter conditions\n",
    "df_criteria = df_inc[-df_inc.person_id.isin(df_exc.person_id)]"
   ]
  },
  {
   "cell_type": "markdown",
   "id": "9013ff65",
   "metadata": {},
   "source": [
    "The second criteria: Visits which do not contain any associated measurements "
   ]
  },
  {
   "cell_type": "code",
   "execution_count": 18,
   "id": "92c4b388",
   "metadata": {},
   "outputs": [],
   "source": [
    "df = df_criteria[(df_criteria.person_id.isin(list(df_meas.person_id)))&(df_criteria.visit_start_datetime.isin(list(df_meas.measurement_datetime)))]"
   ]
  },
  {
   "cell_type": "markdown",
   "id": "fe0b57d9",
   "metadata": {},
   "source": [
    "Developing My Cohort: "
   ]
  },
  {
   "cell_type": "code",
   "execution_count": 19,
   "id": "011a1965",
   "metadata": {},
   "outputs": [],
   "source": [
    "# define a function to find a person's visit age\n",
    "def visit_age(x, y):\n",
    "    difference_in_years = relativedelta(x, y).years\n",
    "    return difference_in_years\n",
    "\n",
    "# create a new variable named age at visit\n",
    "df['visit_age'] = df.apply(lambda x: visit_age(x['visit_start_datetime'], x['birth_datetime']), axis=1)"
   ]
  },
  {
   "cell_type": "code",
   "execution_count": 20,
   "id": "0864be21",
   "metadata": {},
   "outputs": [],
   "source": [
    "# calculated and added a new variable visit_length_hours\n",
    "df['visit_length_hours'] = df.apply(lambda x: relativedelta(x['visit_end_date'], x['visit_start_datetime']).hours, axis=1)"
   ]
  },
  {
   "cell_type": "code",
   "execution_count": 21,
   "id": "502f407d",
   "metadata": {},
   "outputs": [],
   "source": [
    "# read in a new table for measurement\n",
    "omop_condition = pd.read_sql(\"select * from omop.CONDITION_OCCURRENCE\", db_connection);\n",
    "# read in a new table for concept\n",
    "omop_concept = pd.read_sql(\"select * from omop.concept\", db_connection);"
   ]
  },
  {
   "cell_type": "code",
   "execution_count": 22,
   "id": "1923f8bb",
   "metadata": {},
   "outputs": [
    {
     "name": "stdout",
     "output_type": "stream",
     "text": [
      "<class 'pandas.core.frame.DataFrame'>\n",
      "RangeIndex: 137727 entries, 0 to 137726\n",
      "Data columns (total 16 columns):\n",
      " #   Column                         Non-Null Count   Dtype         \n",
      "---  ------                         --------------   -----         \n",
      " 0   condition_occurrence_id        137727 non-null  int64         \n",
      " 1   person_id                      137727 non-null  int64         \n",
      " 2   condition_concept_id           137727 non-null  int64         \n",
      " 3   condition_start_date           137727 non-null  object        \n",
      " 4   condition_start_datetime       137727 non-null  datetime64[ns]\n",
      " 5   condition_end_date             93193 non-null   object        \n",
      " 6   condition_end_datetime         93193 non-null   datetime64[ns]\n",
      " 7   condition_type_concept_id      137727 non-null  int64         \n",
      " 8   condition_status_concept_id    137727 non-null  int64         \n",
      " 9   stop_reason                    0 non-null       object        \n",
      " 10  provider_id                    137727 non-null  int64         \n",
      " 11  visit_occurrence_id            137651 non-null  float64       \n",
      " 12  visit_detail_id                137651 non-null  float64       \n",
      " 13  condition_source_value         137727 non-null  object        \n",
      " 14  condition_source_concept_id    137727 non-null  int64         \n",
      " 15  condition_status_source_value  0 non-null       object        \n",
      "dtypes: datetime64[ns](2), float64(2), int64(7), object(5)\n",
      "memory usage: 16.8+ MB\n"
     ]
    }
   ],
   "source": [
    "omop_condition.info() #condition_concept_id"
   ]
  },
  {
   "cell_type": "code",
   "execution_count": 23,
   "id": "66a74777",
   "metadata": {},
   "outputs": [
    {
     "name": "stdout",
     "output_type": "stream",
     "text": [
      "<class 'pandas.core.frame.DataFrame'>\n",
      "RangeIndex: 5824709 entries, 0 to 5824708\n",
      "Data columns (total 10 columns):\n",
      " #   Column            Dtype \n",
      "---  ------            ----- \n",
      " 0   concept_id        int64 \n",
      " 1   concept_name      object\n",
      " 2   domain_id         object\n",
      " 3   vocabulary_id     object\n",
      " 4   concept_class_id  object\n",
      " 5   standard_concept  object\n",
      " 6   concept_code      object\n",
      " 7   valid_start_date  object\n",
      " 8   valid_end_date    object\n",
      " 9   invalid_reason    object\n",
      "dtypes: int64(1), object(9)\n",
      "memory usage: 444.4+ MB\n"
     ]
    }
   ],
   "source": [
    "omop_concept.info()"
   ]
  },
  {
   "cell_type": "code",
   "execution_count": 24,
   "id": "e9468a15",
   "metadata": {},
   "outputs": [],
   "source": [
    "# merged two tables to a new DataFrame df_means on measurement_concept_id \n",
    "df_condition = pd.merge(omop_condition, omop_concept[['concept_id', 'concept_name']], left_on='condition_concept_id', right_on='concept_id')"
   ]
  },
  {
   "cell_type": "code",
   "execution_count": 25,
   "id": "dc706880",
   "metadata": {},
   "outputs": [],
   "source": [
    "# set date and personid to be the primary key\n",
    "duplicate_row = df.duplicated(subset=['person_id','visit_start_datetime'],keep=False) \n",
    "df = df[-duplicate_row]"
   ]
  },
  {
   "cell_type": "code",
   "execution_count": 26,
   "id": "5cf5bd42",
   "metadata": {},
   "outputs": [],
   "source": [
    "# set date and personid to be the primary key\n",
    "duplicate_row = df_condition.duplicated(subset=['person_id','condition_start_datetime'],keep=False) \n",
    "df_condition = df_condition[-duplicate_row]"
   ]
  },
  {
   "cell_type": "code",
   "execution_count": 27,
   "id": "bd539934",
   "metadata": {},
   "outputs": [],
   "source": [
    "# merged two tables to a new DataFrame df_means on person_id and date\n",
    "df = pd.merge(df, df_condition, left_on=['person_id','visit_start_datetime'], right_on=['person_id','condition_start_datetime'], how='left')"
   ]
  },
  {
   "cell_type": "code",
   "execution_count": 32,
   "id": "33c446d9",
   "metadata": {},
   "outputs": [],
   "source": [
    "# filter\n",
    "def hypertension(x):\n",
    "    if 'hypertension' in str(x):\n",
    "        return 'presence'\n",
    "    else:\n",
    "        return 'absence'\n",
    "\n",
    "def diabetes(x):\n",
    "    if 'Diabetes' in str(x):\n",
    "        return 'presence'\n",
    "    else:\n",
    "        return 'absence'"
   ]
  },
  {
   "cell_type": "code",
   "execution_count": 33,
   "id": "666e2d31",
   "metadata": {},
   "outputs": [],
   "source": [
    "df['hypertension'] = df.concept_name.apply(hypertension)\n",
    "df['diabetes'] = df.concept_name.apply(diabetes)"
   ]
  },
  {
   "cell_type": "code",
   "execution_count": 34,
   "id": "75a0127e",
   "metadata": {},
   "outputs": [],
   "source": [
    "df['measurement'] = df.concept_name"
   ]
  },
  {
   "cell_type": "code",
   "execution_count": 35,
   "id": "9fd52d99",
   "metadata": {},
   "outputs": [
    {
     "data": {
      "text/html": [
       "<div>\n",
       "<style scoped>\n",
       "    .dataframe tbody tr th:only-of-type {\n",
       "        vertical-align: middle;\n",
       "    }\n",
       "\n",
       "    .dataframe tbody tr th {\n",
       "        vertical-align: top;\n",
       "    }\n",
       "\n",
       "    .dataframe thead th {\n",
       "        text-align: right;\n",
       "    }\n",
       "</style>\n",
       "<table border=\"1\" class=\"dataframe\">\n",
       "  <thead>\n",
       "    <tr style=\"text-align: right;\">\n",
       "      <th></th>\n",
       "      <th>visit_start_datetime</th>\n",
       "      <th>person_id</th>\n",
       "      <th>gender_concept_id</th>\n",
       "      <th>visit_age</th>\n",
       "      <th>race_source_value</th>\n",
       "      <th>ethnicity_source_value</th>\n",
       "      <th>visit_length_hours</th>\n",
       "      <th>hypertension</th>\n",
       "      <th>diabetes</th>\n",
       "      <th>measurement</th>\n",
       "    </tr>\n",
       "  </thead>\n",
       "  <tbody>\n",
       "    <tr>\n",
       "      <th>0</th>\n",
       "      <td>2012-06-28</td>\n",
       "      <td>11</td>\n",
       "      <td>8507</td>\n",
       "      <td>56</td>\n",
       "      <td>white</td>\n",
       "      <td>nonhispanic</td>\n",
       "      <td>0</td>\n",
       "      <td>absence</td>\n",
       "      <td>absence</td>\n",
       "      <td>Hyperlipidemia</td>\n",
       "    </tr>\n",
       "    <tr>\n",
       "      <th>1</th>\n",
       "      <td>2012-07-19</td>\n",
       "      <td>11</td>\n",
       "      <td>8507</td>\n",
       "      <td>56</td>\n",
       "      <td>white</td>\n",
       "      <td>nonhispanic</td>\n",
       "      <td>0</td>\n",
       "      <td>absence</td>\n",
       "      <td>absence</td>\n",
       "      <td>NaN</td>\n",
       "    </tr>\n",
       "    <tr>\n",
       "      <th>2</th>\n",
       "      <td>2021-01-13</td>\n",
       "      <td>12</td>\n",
       "      <td>8507</td>\n",
       "      <td>52</td>\n",
       "      <td>white</td>\n",
       "      <td>nonhispanic</td>\n",
       "      <td>0</td>\n",
       "      <td>absence</td>\n",
       "      <td>absence</td>\n",
       "      <td>NaN</td>\n",
       "    </tr>\n",
       "    <tr>\n",
       "      <th>3</th>\n",
       "      <td>2022-01-19</td>\n",
       "      <td>12</td>\n",
       "      <td>8507</td>\n",
       "      <td>53</td>\n",
       "      <td>white</td>\n",
       "      <td>nonhispanic</td>\n",
       "      <td>0</td>\n",
       "      <td>absence</td>\n",
       "      <td>absence</td>\n",
       "      <td>NaN</td>\n",
       "    </tr>\n",
       "    <tr>\n",
       "      <th>4</th>\n",
       "      <td>2010-03-27</td>\n",
       "      <td>16</td>\n",
       "      <td>8532</td>\n",
       "      <td>54</td>\n",
       "      <td>white</td>\n",
       "      <td>nonhispanic</td>\n",
       "      <td>0</td>\n",
       "      <td>absence</td>\n",
       "      <td>absence</td>\n",
       "      <td>NaN</td>\n",
       "    </tr>\n",
       "  </tbody>\n",
       "</table>\n",
       "</div>"
      ],
      "text/plain": [
       "  visit_start_datetime  person_id  gender_concept_id  visit_age  \\\n",
       "0           2012-06-28         11               8507         56   \n",
       "1           2012-07-19         11               8507         56   \n",
       "2           2021-01-13         12               8507         52   \n",
       "3           2022-01-19         12               8507         53   \n",
       "4           2010-03-27         16               8532         54   \n",
       "\n",
       "  race_source_value ethnicity_source_value  visit_length_hours hypertension  \\\n",
       "0             white            nonhispanic                   0      absence   \n",
       "1             white            nonhispanic                   0      absence   \n",
       "2             white            nonhispanic                   0      absence   \n",
       "3             white            nonhispanic                   0      absence   \n",
       "4             white            nonhispanic                   0      absence   \n",
       "\n",
       "  diabetes     measurement  \n",
       "0  absence  Hyperlipidemia  \n",
       "1  absence             NaN  \n",
       "2  absence             NaN  \n",
       "3  absence             NaN  \n",
       "4  absence             NaN  "
      ]
     },
     "execution_count": 35,
     "metadata": {},
     "output_type": "execute_result"
    }
   ],
   "source": [
    "# keep the menaingful columns we want\n",
    "col_keep = ['visit_start_datetime', 'person_id', 'gender_concept_id', 'visit_age',\n",
    "            'race_source_value', 'ethnicity_source_value', 'visit_length_hours',\n",
    "            'hypertension','diabetes','measurement']\n",
    "df = df[col_keep]\n",
    "df.head()"
   ]
  },
  {
   "cell_type": "markdown",
   "id": "97ed69bb",
   "metadata": {},
   "source": [
    "# Visualizing Descriptive Statistics of Our Data Set: "
   ]
  },
  {
   "cell_type": "code",
   "execution_count": 36,
   "id": "220c093c",
   "metadata": {},
   "outputs": [
    {
     "data": {
      "image/png": "[encoded data removed]",
      "text/plain": [
       "<Figure size 432x288 with 1 Axes>"
      ]
     },
     "metadata": {
      "needs_background": "light"
     },
     "output_type": "display_data"
    }
   ],
   "source": [
    "import matplotlib.pyplot as plt\n",
    "plt.hist(df.visit_age)\n",
    "plt.title(\"histogram\")\n",
    "plt.xlabel(\"visit_age\")\n",
    "plt.ylabel(\"count\")\n",
    "plt.show()"
   ]
  },
  {
   "cell_type": "code",
   "execution_count": 37,
   "id": "f5b34c6e",
   "metadata": {},
   "outputs": [
    {
     "data": {
      "image/png": "[encoded data removed]",
      "text/plain": [
       "<Figure size 864x360 with 3 Axes>"
      ]
     },
     "metadata": {
      "needs_background": "light"
     },
     "output_type": "display_data"
    }
   ],
   "source": [
    "# select catgorical columns of interest\n",
    "cat_col = ['gender_concept_id', 'race_source_value', 'visit_length_hours']\n",
    "df_cat = df[cat_col]\n",
    "\n",
    "# create figures and plots\n",
    "fig, axes = plt.subplots(1, 3, figsize=(12, 5))\n",
    "\n",
    "for i, ax in enumerate(fig.axes):\n",
    "    if i < len(df_cat.columns):\n",
    "        ax.set_xticklabels(ax.xaxis.get_majorticklabels(), rotation=45)\n",
    "        sns.countplot(x=df_cat.columns[i], alpha=0.7, data=df_cat, ax=ax)\n",
    "\n",
    "fig.tight_layout()"
   ]
  },
  {
   "cell_type": "markdown",
   "id": "9a5b4fe0",
   "metadata": {},
   "source": [
    "From the histogram of visit_age, we can find the age from 54-54.5 account for the most. The number of 8532 gender of patients is slightly higher than 8507 gender. Most of the SYNTHEA patients are white people."
   ]
  },
  {
   "cell_type": "code",
   "execution_count": 38,
   "id": "42ef2ab9",
   "metadata": {},
   "outputs": [],
   "source": [
    "df_temp = pd.merge(df, visit_count,on='person_id')"
   ]
  },
  {
   "cell_type": "code",
   "execution_count": 39,
   "id": "13a21669",
   "metadata": {},
   "outputs": [],
   "source": [
    "cat_col = ['visit_occurrence_id','gender_concept_id', 'measurement', 'race_source_value', 'ethnicity_source_value']\n",
    "df_cat = df_temp[cat_col]"
   ]
  },
  {
   "cell_type": "code",
   "execution_count": 40,
   "id": "6d6a5b5d",
   "metadata": {
    "scrolled": false
   },
   "outputs": [
    {
     "data": {
      "image/png": "[encoded data removed]",
      "text/plain": [
       "<Figure size 720x432 with 1 Axes>"
      ]
     },
     "metadata": {
      "needs_background": "light"
     },
     "output_type": "display_data"
    },
    {
     "data": {
      "image/png": "[encoded data removed]",
      "text/plain": [
       "<Figure size 720x432 with 1 Axes>"
      ]
     },
     "metadata": {
      "needs_background": "light"
     },
     "output_type": "display_data"
    },
    {
     "data": {
      "image/png": "[encoded data removed]",
      "text/plain": [
       "<Figure size 720x432 with 1 Axes>"
      ]
     },
     "metadata": {
      "needs_background": "light"
     },
     "output_type": "display_data"
    },
    {
     "data": {
      "image/png": "[encoded data removed]",
      "text/plain": [
       "<Figure size 720x432 with 1 Axes>"
      ]
     },
     "metadata": {
      "needs_background": "light"
     },
     "output_type": "display_data"
    },
    {
     "data": {
      "image/png": "[encoded data removed]",
      "text/plain": [
       "<Figure size 720x432 with 1 Axes>"
      ]
     },
     "metadata": {
      "needs_background": "light"
     },
     "output_type": "display_data"
    }
   ],
   "source": [
    "# plot of age across categories (box plots)\n",
    "for cat in cat_col:\n",
    "    plt.figure(figsize = (10, 6))\n",
    "    ax = sns.boxplot(x=cat, y='visit_age', data=df_temp)\n",
    "    plt.setp(ax.artists, alpha=.5, linewidth=2, edgecolor=\"k\")\n",
    "    plt.xticks(rotation=45)"
   ]
  },
  {
   "cell_type": "markdown",
   "id": "30373bd3",
   "metadata": {},
   "source": [
    "Both of the two gender people have the same medium visit_age:54.\n",
    "The race in native has the lowest visit_age.\n"
   ]
  },
  {
   "cell_type": "markdown",
   "id": "87a5b170",
   "metadata": {},
   "source": [
    "# Short Answer Questions"
   ]
  },
  {
   "cell_type": "markdown",
   "id": "bcb092b4",
   "metadata": {},
   "source": [
    "concept: one patient_id mapps to many concepts"
   ]
  },
  {
   "cell_type": "markdown",
   "id": "3ba7889f",
   "metadata": {},
   "source": [
    "person: one patient_id mapps to one person_id/t"
   ]
  },
  {
   "cell_type": "markdown",
   "id": "8f0fd1e4",
   "metadata": {},
   "source": [
    "measurement: one patient_id mapps to many measurements"
   ]
  },
  {
   "cell_type": "code",
   "execution_count": 47,
   "id": "fafefd72",
   "metadata": {},
   "outputs": [
    {
     "data": {
      "text/html": [
       "<div>\n",
       "<style scoped>\n",
       "    .dataframe tbody tr th:only-of-type {\n",
       "        vertical-align: middle;\n",
       "    }\n",
       "\n",
       "    .dataframe tbody tr th {\n",
       "        vertical-align: top;\n",
       "    }\n",
       "\n",
       "    .dataframe thead th {\n",
       "        text-align: right;\n",
       "    }\n",
       "</style>\n",
       "<table border=\"1\" class=\"dataframe\">\n",
       "  <thead>\n",
       "    <tr style=\"text-align: right;\">\n",
       "      <th></th>\n",
       "      <th>visit_start_datetime</th>\n",
       "      <th>person_id</th>\n",
       "      <th>gender_concept_id</th>\n",
       "      <th>visit_age</th>\n",
       "      <th>race_source_value</th>\n",
       "      <th>ethnicity_source_value</th>\n",
       "      <th>visit_length_hours</th>\n",
       "      <th>hypertension</th>\n",
       "      <th>diabetes</th>\n",
       "      <th>measurement</th>\n",
       "    </tr>\n",
       "  </thead>\n",
       "  <tbody>\n",
       "    <tr>\n",
       "      <th>0</th>\n",
       "      <td>2012-06-28</td>\n",
       "      <td>11</td>\n",
       "      <td>8507</td>\n",
       "      <td>56</td>\n",
       "      <td>white</td>\n",
       "      <td>nonhispanic</td>\n",
       "      <td>0</td>\n",
       "      <td>absence</td>\n",
       "      <td>absence</td>\n",
       "      <td>Hyperlipidemia</td>\n",
       "    </tr>\n",
       "    <tr>\n",
       "      <th>1</th>\n",
       "      <td>2012-07-19</td>\n",
       "      <td>11</td>\n",
       "      <td>8507</td>\n",
       "      <td>56</td>\n",
       "      <td>white</td>\n",
       "      <td>nonhispanic</td>\n",
       "      <td>0</td>\n",
       "      <td>absence</td>\n",
       "      <td>absence</td>\n",
       "      <td>NaN</td>\n",
       "    </tr>\n",
       "    <tr>\n",
       "      <th>2</th>\n",
       "      <td>2021-01-13</td>\n",
       "      <td>12</td>\n",
       "      <td>8507</td>\n",
       "      <td>52</td>\n",
       "      <td>white</td>\n",
       "      <td>nonhispanic</td>\n",
       "      <td>0</td>\n",
       "      <td>absence</td>\n",
       "      <td>absence</td>\n",
       "      <td>NaN</td>\n",
       "    </tr>\n",
       "    <tr>\n",
       "      <th>3</th>\n",
       "      <td>2022-01-19</td>\n",
       "      <td>12</td>\n",
       "      <td>8507</td>\n",
       "      <td>53</td>\n",
       "      <td>white</td>\n",
       "      <td>nonhispanic</td>\n",
       "      <td>0</td>\n",
       "      <td>absence</td>\n",
       "      <td>absence</td>\n",
       "      <td>NaN</td>\n",
       "    </tr>\n",
       "    <tr>\n",
       "      <th>4</th>\n",
       "      <td>2010-03-27</td>\n",
       "      <td>16</td>\n",
       "      <td>8532</td>\n",
       "      <td>54</td>\n",
       "      <td>white</td>\n",
       "      <td>nonhispanic</td>\n",
       "      <td>0</td>\n",
       "      <td>absence</td>\n",
       "      <td>absence</td>\n",
       "      <td>NaN</td>\n",
       "    </tr>\n",
       "    <tr>\n",
       "      <th>...</th>\n",
       "      <td>...</td>\n",
       "      <td>...</td>\n",
       "      <td>...</td>\n",
       "      <td>...</td>\n",
       "      <td>...</td>\n",
       "      <td>...</td>\n",
       "      <td>...</td>\n",
       "      <td>...</td>\n",
       "      <td>...</td>\n",
       "      <td>...</td>\n",
       "    </tr>\n",
       "    <tr>\n",
       "      <th>6023</th>\n",
       "      <td>2021-08-05</td>\n",
       "      <td>11845</td>\n",
       "      <td>8532</td>\n",
       "      <td>52</td>\n",
       "      <td>white</td>\n",
       "      <td>nonhispanic</td>\n",
       "      <td>0</td>\n",
       "      <td>absence</td>\n",
       "      <td>absence</td>\n",
       "      <td>NaN</td>\n",
       "    </tr>\n",
       "    <tr>\n",
       "      <th>6024</th>\n",
       "      <td>2022-08-11</td>\n",
       "      <td>11845</td>\n",
       "      <td>8532</td>\n",
       "      <td>53</td>\n",
       "      <td>white</td>\n",
       "      <td>nonhispanic</td>\n",
       "      <td>0</td>\n",
       "      <td>absence</td>\n",
       "      <td>absence</td>\n",
       "      <td>NaN</td>\n",
       "    </tr>\n",
       "    <tr>\n",
       "      <th>6025</th>\n",
       "      <td>2022-03-07</td>\n",
       "      <td>11865</td>\n",
       "      <td>8507</td>\n",
       "      <td>52</td>\n",
       "      <td>white</td>\n",
       "      <td>nonhispanic</td>\n",
       "      <td>0</td>\n",
       "      <td>absence</td>\n",
       "      <td>absence</td>\n",
       "      <td>NaN</td>\n",
       "    </tr>\n",
       "    <tr>\n",
       "      <th>6026</th>\n",
       "      <td>1986-03-31</td>\n",
       "      <td>11900</td>\n",
       "      <td>8532</td>\n",
       "      <td>55</td>\n",
       "      <td>asian</td>\n",
       "      <td>nonhispanic</td>\n",
       "      <td>0</td>\n",
       "      <td>absence</td>\n",
       "      <td>absence</td>\n",
       "      <td>Osteoarthritis of hip</td>\n",
       "    </tr>\n",
       "    <tr>\n",
       "      <th>6027</th>\n",
       "      <td>2008-01-01</td>\n",
       "      <td>11939</td>\n",
       "      <td>8507</td>\n",
       "      <td>52</td>\n",
       "      <td>white</td>\n",
       "      <td>nonhispanic</td>\n",
       "      <td>0</td>\n",
       "      <td>absence</td>\n",
       "      <td>absence</td>\n",
       "      <td>NaN</td>\n",
       "    </tr>\n",
       "  </tbody>\n",
       "</table>\n",
       "<p>6028 rows × 10 columns</p>\n",
       "</div>"
      ],
      "text/plain": [
       "     visit_start_datetime  person_id  gender_concept_id  visit_age  \\\n",
       "0              2012-06-28         11               8507         56   \n",
       "1              2012-07-19         11               8507         56   \n",
       "2              2021-01-13         12               8507         52   \n",
       "3              2022-01-19         12               8507         53   \n",
       "4              2010-03-27         16               8532         54   \n",
       "...                   ...        ...                ...        ...   \n",
       "6023           2021-08-05      11845               8532         52   \n",
       "6024           2022-08-11      11845               8532         53   \n",
       "6025           2022-03-07      11865               8507         52   \n",
       "6026           1986-03-31      11900               8532         55   \n",
       "6027           2008-01-01      11939               8507         52   \n",
       "\n",
       "     race_source_value ethnicity_source_value  visit_length_hours  \\\n",
       "0                white            nonhispanic                   0   \n",
       "1                white            nonhispanic                   0   \n",
       "2                white            nonhispanic                   0   \n",
       "3                white            nonhispanic                   0   \n",
       "4                white            nonhispanic                   0   \n",
       "...                ...                    ...                 ...   \n",
       "6023             white            nonhispanic                   0   \n",
       "6024             white            nonhispanic                   0   \n",
       "6025             white            nonhispanic                   0   \n",
       "6026             asian            nonhispanic                   0   \n",
       "6027             white            nonhispanic                   0   \n",
       "\n",
       "     hypertension diabetes            measurement  \n",
       "0         absence  absence         Hyperlipidemia  \n",
       "1         absence  absence                    NaN  \n",
       "2         absence  absence                    NaN  \n",
       "3         absence  absence                    NaN  \n",
       "4         absence  absence                    NaN  \n",
       "...           ...      ...                    ...  \n",
       "6023      absence  absence                    NaN  \n",
       "6024      absence  absence                    NaN  \n",
       "6025      absence  absence                    NaN  \n",
       "6026      absence  absence  Osteoarthritis of hip  \n",
       "6027      absence  absence                    NaN  \n",
       "\n",
       "[6028 rows x 10 columns]"
      ]
     },
     "execution_count": 47,
     "metadata": {},
     "output_type": "execute_result"
    }
   ],
   "source": [
    "df"
   ]
  },
  {
   "cell_type": "markdown",
   "id": "e86d3595",
   "metadata": {},
   "source": [
    "Question: How to determine which patient have hypertension?"
   ]
  },
  {
   "cell_type": "markdown",
   "id": "64a20220",
   "metadata": {},
   "source": [
    "Based on the patient information: gender_concept_id, visit_age, race_source_value, ethnicity_source_value, visit_length_hours, we can eestablish a machine model to predict the status of patient.Firstly, I will do feeature engineering process so that I can take out the useless variables. In this step, I will use gini impurity as my indicator to select and rank all the variables by random forest algorithm. In next step, I will utilize the variables after selection as the input and hypertension as label to establish my prediction model. I believe SVM is a good choice to have a try as it has excellent performance in binary classification problem. After training process, cross-validation will be used to test the performance of my model."
   ]
  },
  {
   "cell_type": "code",
   "execution_count": 53,
   "id": "0e10de26",
   "metadata": {},
   "outputs": [],
   "source": [
    "df.to_csv('C:/Users/mw2258/Desktop/dat.csv')"
   ]
  }
 ],
 "metadata": {
  "kernelspec": {
   "display_name": "Python 3",
   "language": "python",
   "name": "python3"
  },
  "language_info": {
   "codemirror_mode": {
    "name": "ipython",
    "version": 3
   },
   "file_extension": ".py",
   "mimetype": "text/x-python",
   "name": "python",
   "nbconvert_exporter": "python",
   "pygments_lexer": "ipython3",
   "version": "3.9.11"
  }
 },
 "nbformat": 4,
 "nbformat_minor": 5
}
